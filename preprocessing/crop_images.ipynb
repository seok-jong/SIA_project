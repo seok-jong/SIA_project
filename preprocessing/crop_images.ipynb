{
 "cells": [
  {
   "cell_type": "code",
   "execution_count": 1,
   "metadata": {},
   "outputs": [],
   "source": [
    "import cv2\n",
    "import glob\n",
    "import json as JSON\n",
    "import os\n",
    "import numpy as np"
   ]
  },
  {
   "cell_type": "code",
   "execution_count": 2,
   "metadata": {},
   "outputs": [
    {
     "data": {
      "text/plain": [
       "'/workspace/storage'"
      ]
     },
     "execution_count": 2,
     "metadata": {},
     "output_type": "execute_result"
    }
   ],
   "source": [
    "pwd"
   ]
  },
  {
   "cell_type": "markdown",
   "metadata": {},
   "source": [
    "---\n",
    "## train raw image crop"
   ]
  },
  {
   "cell_type": "code",
   "execution_count": 10,
   "metadata": {},
   "outputs": [],
   "source": [
    "file_path = './mixed/train/label/'\n",
    "file_path_list = glob.glob(file_path+'*.png')"
   ]
  },
  {
   "cell_type": "code",
   "execution_count": 11,
   "metadata": {},
   "outputs": [
    {
     "data": {
      "text/plain": [
       "324"
      ]
     },
     "execution_count": 11,
     "metadata": {},
     "output_type": "execute_result"
    }
   ],
   "source": [
    "len(file_path_list)"
   ]
  },
  {
   "cell_type": "code",
   "execution_count": 36,
   "metadata": {},
   "outputs": [],
   "source": [
    "os.makedirs('./roads/crop/val/label')"
   ]
  },
  {
   "cell_type": "code",
   "execution_count": 12,
   "metadata": {},
   "outputs": [],
   "source": [
    "save_directory = './mixed/crop/train/label/'"
   ]
  },
  {
   "cell_type": "code",
   "execution_count": 6,
   "metadata": {},
   "outputs": [],
   "source": [
    "from tqdm import tqdm\n",
    "\n",
    "def crop_and_save(save_directory, image_path, crop_size):\n",
    "    \n",
    "    cnt = 1\n",
    "    image = cv2.imread(image_path)\n",
    "    img_name = image_path[image_path.rfind('/')+1:-4]\n",
    "    \n",
    "    for i in range(image.shape[0] // crop_size):\n",
    "        for j in range(image.shape[1] // crop_size):\n",
    "            x, y = j*crop_size, i*crop_size\n",
    "            h, w = crop_size, crop_size\n",
    "            # cropped_images.append(image[y:y+h, x:x+w])\n",
    "            cropped = image[y:y+h, x:x+w]\n",
    "            f_name = f'{img_name}_{cnt:02d}.png'\n",
    "            cnt += 1\n",
    "            cv2.imwrite(save_directory+f_name, cropped)"
   ]
  },
  {
   "cell_type": "code",
   "execution_count": 13,
   "metadata": {},
   "outputs": [
    {
     "name": "stderr",
     "output_type": "stream",
     "text": [
      "100%|██████████| 324/324 [00:09<00:00, 35.85it/s]\n"
     ]
    }
   ],
   "source": [
    "for file in tqdm(file_path_list):\n",
    "    crop_and_save(save_directory, file, 256)"
   ]
  },
  {
   "cell_type": "code",
   "execution_count": 14,
   "metadata": {},
   "outputs": [
    {
     "data": {
      "text/plain": [
       "'./mixed/crop/train/label/'"
      ]
     },
     "execution_count": 14,
     "metadata": {},
     "output_type": "execute_result"
    }
   ],
   "source": [
    "save_directory"
   ]
  },
  {
   "cell_type": "code",
   "execution_count": 15,
   "metadata": {},
   "outputs": [
    {
     "data": {
      "text/plain": [
       "324.0"
      ]
     },
     "execution_count": 15,
     "metadata": {},
     "output_type": "execute_result"
    }
   ],
   "source": [
    "check = glob.glob(save_directory+'*.png')\n",
    "len(check) / 16"
   ]
  },
  {
   "cell_type": "markdown",
   "metadata": {},
   "source": [
    "---\n",
    "## train label image crop"
   ]
  },
  {
   "cell_type": "code",
   "execution_count": 24,
   "metadata": {},
   "outputs": [],
   "source": [
    "json_path = glob.glob('./building/train/label/*.json')"
   ]
  },
  {
   "cell_type": "code",
   "execution_count": 26,
   "metadata": {},
   "outputs": [],
   "source": [
    "def parse_json(json_file_path):\n",
    "    \n",
    "    with open(json_file_path) as f:\n",
    "        json_file = JSON.load(f)\n",
    "        polygon_list = []\n",
    "        file_name_list = []\n",
    "        for feature in json_file['features']:\n",
    "            if feature['properties']['building_imcoords']:\n",
    "                polygon = list(map(float, feature['properties']['building_imcoords'].split(',')))\n",
    "                polygon = np.array(polygon, np.int32).reshape(-1, 1, 2)\n",
    "                polygon_list.append(polygon)\n",
    "                file_name_list.append(feature['properties']['image_id'][:-4])\n",
    "    \n",
    "    return polygon_list, set(file_name_list)"
   ]
  },
  {
   "cell_type": "code",
   "execution_count": 27,
   "metadata": {},
   "outputs": [],
   "source": [
    "def draw_label_then_crop_and_save(directory, polygon, img_name, crop_size):\n",
    "\n",
    "        image = np.zeros((1024, 1024, 3), np.uint8)\n",
    "        image = cv2.fillPoly(image, polygon_list, (0,255,0))\n",
    "        image = cv2.polylines(image, polygon_list, True, (255, 255, 255), 3)\n",
    "        image = cv2.fillPoly(image, polygon_list, (0,255,0))\n",
    "        \n",
    "        cnt = 1\n",
    "        for i in range(image.shape[0] // crop_size):\n",
    "            for j in range(image.shape[1] // crop_size):\n",
    "                x, y = j*crop_size, i*crop_size\n",
    "                h, w = crop_size, crop_size\n",
    "                # cropped_images.append(image[y:y+h, x:x+w])\n",
    "                cropped = image[y:y+h, x:x+w]\n",
    "                f_name = f'{str(img_name)[2:-2]}_{cnt:02d}.png'\n",
    "                cnt += 1\n",
    "                cv2.imwrite(directory+f_name, cropped)"
   ]
  },
  {
   "cell_type": "code",
   "execution_count": 28,
   "metadata": {},
   "outputs": [],
   "source": [
    "os.makedirs('./building/crop/train/label')"
   ]
  },
  {
   "cell_type": "code",
   "execution_count": 29,
   "metadata": {},
   "outputs": [],
   "source": [
    "directory = './building/crop/train/label/'\n",
    "for json_file in json_path:\n",
    "    polygon_list, file_name = parse_json(json_file)\n",
    "    draw_label_then_crop_and_save(directory, polygon_list, file_name, 256)"
   ]
  },
  {
   "cell_type": "code",
   "execution_count": 31,
   "metadata": {},
   "outputs": [],
   "source": [
    "json_list = glob.glob(directory+'*.png')"
   ]
  },
  {
   "cell_type": "code",
   "execution_count": 33,
   "metadata": {},
   "outputs": [
    {
     "data": {
      "text/plain": [
       "19808"
      ]
     },
     "execution_count": 33,
     "metadata": {},
     "output_type": "execute_result"
    }
   ],
   "source": [
    "len(json_list)"
   ]
  },
  {
   "cell_type": "markdown",
   "metadata": {},
   "source": [
    "---\n",
    "## validatain raw image crop"
   ]
  },
  {
   "cell_type": "code",
   "execution_count": 34,
   "metadata": {},
   "outputs": [],
   "source": [
    "os.makedirs('./building/crop/val/raw')"
   ]
  },
  {
   "cell_type": "code",
   "execution_count": 35,
   "metadata": {},
   "outputs": [],
   "source": [
    "file_path = './building/val/raw/'\n",
    "file_path_list = glob.glob(file_path+'*.png')"
   ]
  },
  {
   "cell_type": "code",
   "execution_count": 36,
   "metadata": {},
   "outputs": [],
   "source": [
    "save_directory = './building/crop/val/raw/'"
   ]
  },
  {
   "cell_type": "code",
   "execution_count": 38,
   "metadata": {},
   "outputs": [],
   "source": [
    "for file in file_path_list:\n",
    "    crop_and_save(save_directory, file, 256)"
   ]
  },
  {
   "cell_type": "code",
   "execution_count": 37,
   "metadata": {},
   "outputs": [
    {
     "data": {
      "text/plain": [
       "2544"
      ]
     },
     "execution_count": 37,
     "metadata": {},
     "output_type": "execute_result"
    }
   ],
   "source": [
    "len(file_path_list)*16"
   ]
  },
  {
   "cell_type": "code",
   "execution_count": 39,
   "metadata": {},
   "outputs": [
    {
     "data": {
      "text/plain": [
       "2544"
      ]
     },
     "execution_count": 39,
     "metadata": {},
     "output_type": "execute_result"
    }
   ],
   "source": [
    "crop_list = glob.glob(save_directory+'*.png')\n",
    "len(crop_list)"
   ]
  },
  {
   "cell_type": "markdown",
   "metadata": {},
   "source": [
    "---\n",
    "## validation label image crop"
   ]
  },
  {
   "cell_type": "code",
   "execution_count": 40,
   "metadata": {},
   "outputs": [],
   "source": [
    "os.makedirs('./building/crop/val/label')"
   ]
  },
  {
   "cell_type": "code",
   "execution_count": 41,
   "metadata": {},
   "outputs": [],
   "source": [
    "json_path = glob.glob('./building/val/label/*.json')"
   ]
  },
  {
   "cell_type": "code",
   "execution_count": 42,
   "metadata": {},
   "outputs": [
    {
     "data": {
      "text/plain": [
       "159"
      ]
     },
     "execution_count": 42,
     "metadata": {},
     "output_type": "execute_result"
    }
   ],
   "source": [
    "len(json_path)"
   ]
  },
  {
   "cell_type": "code",
   "execution_count": 43,
   "metadata": {},
   "outputs": [],
   "source": [
    "directory = './building/crop/val/label/'\n",
    "for json_file in json_path:\n",
    "    polygon_list, file_name = parse_json(json_file)\n",
    "    draw_label_then_crop_and_save(directory, polygon_list, file_name, 256)"
   ]
  },
  {
   "cell_type": "code",
   "execution_count": 44,
   "metadata": {},
   "outputs": [
    {
     "data": {
      "text/plain": [
       "159.0"
      ]
     },
     "execution_count": 44,
     "metadata": {},
     "output_type": "execute_result"
    }
   ],
   "source": [
    "crop_list = glob.glob(directory+'*.png')\n",
    "len(crop_list)/16"
   ]
  }
 ],
 "metadata": {
  "kernelspec": {
   "display_name": "Python 3",
   "language": "python",
   "name": "python3"
  },
  "language_info": {
   "codemirror_mode": {
    "name": "ipython",
    "version": 3
   },
   "file_extension": ".py",
   "mimetype": "text/x-python",
   "name": "python",
   "nbconvert_exporter": "python",
   "pygments_lexer": "ipython3",
   "version": "3.7.8"
  }
 },
 "nbformat": 4,
 "nbformat_minor": 4
}
